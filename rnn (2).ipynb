{
  "cells": [
    {
      "cell_type": "code",
      "execution_count": null,
      "metadata": {
        "id": "DaqmIj_m9Mes"
      },
      "outputs": [],
      "source": [
        "import pandas as pd\n",
        "import numpy as np\n",
        "from sklearn.preprocessing import MinMaxScaler\n"
      ]
    },
    {
      "cell_type": "code",
      "source": [
        "df = pd.read_csv('google_stock_data.csv')"
      ],
      "metadata": {
        "id": "KM5BiunD-Lxn"
      },
      "execution_count": null,
      "outputs": []
    },
    {
      "cell_type": "code",
      "source": [
        "df.head()"
      ],
      "metadata": {
        "colab": {
          "base_uri": "https://localhost:8080/",
          "height": 206
        },
        "id": "WygSg_98-Vnz",
        "outputId": "645805c7-47c1-4b4b-9c62-a34edd862292"
      },
      "execution_count": null,
      "outputs": [
        {
          "output_type": "execute_result",
          "data": {
            "text/plain": [
              "         Date       Open       High        Low      Close  Adj Close  \\\n",
              "0  2010-01-04  15.689439  15.753504  15.621622  15.684434  15.684434   \n",
              "1  2010-01-05  15.695195  15.711712  15.554054  15.615365  15.615365   \n",
              "2  2010-01-06  15.662162  15.662162  15.174174  15.221722  15.221722   \n",
              "3  2010-01-07  15.250250  15.265265  14.831081  14.867367  14.867367   \n",
              "4  2010-01-08  14.814815  15.096346  14.742492  15.065566  15.065566   \n",
              "\n",
              "      Volume  \n",
              "0   78169752  \n",
              "1  120067812  \n",
              "2  158988852  \n",
              "3  256315428  \n",
              "4  188783028  "
            ],
            "text/html": [
              "\n",
              "  <div id=\"df-96494b00-33df-410b-87e8-19687c012eb5\" class=\"colab-df-container\">\n",
              "    <div>\n",
              "<style scoped>\n",
              "    .dataframe tbody tr th:only-of-type {\n",
              "        vertical-align: middle;\n",
              "    }\n",
              "\n",
              "    .dataframe tbody tr th {\n",
              "        vertical-align: top;\n",
              "    }\n",
              "\n",
              "    .dataframe thead th {\n",
              "        text-align: right;\n",
              "    }\n",
              "</style>\n",
              "<table border=\"1\" class=\"dataframe\">\n",
              "  <thead>\n",
              "    <tr style=\"text-align: right;\">\n",
              "      <th></th>\n",
              "      <th>Date</th>\n",
              "      <th>Open</th>\n",
              "      <th>High</th>\n",
              "      <th>Low</th>\n",
              "      <th>Close</th>\n",
              "      <th>Adj Close</th>\n",
              "      <th>Volume</th>\n",
              "    </tr>\n",
              "  </thead>\n",
              "  <tbody>\n",
              "    <tr>\n",
              "      <th>0</th>\n",
              "      <td>2010-01-04</td>\n",
              "      <td>15.689439</td>\n",
              "      <td>15.753504</td>\n",
              "      <td>15.621622</td>\n",
              "      <td>15.684434</td>\n",
              "      <td>15.684434</td>\n",
              "      <td>78169752</td>\n",
              "    </tr>\n",
              "    <tr>\n",
              "      <th>1</th>\n",
              "      <td>2010-01-05</td>\n",
              "      <td>15.695195</td>\n",
              "      <td>15.711712</td>\n",
              "      <td>15.554054</td>\n",
              "      <td>15.615365</td>\n",
              "      <td>15.615365</td>\n",
              "      <td>120067812</td>\n",
              "    </tr>\n",
              "    <tr>\n",
              "      <th>2</th>\n",
              "      <td>2010-01-06</td>\n",
              "      <td>15.662162</td>\n",
              "      <td>15.662162</td>\n",
              "      <td>15.174174</td>\n",
              "      <td>15.221722</td>\n",
              "      <td>15.221722</td>\n",
              "      <td>158988852</td>\n",
              "    </tr>\n",
              "    <tr>\n",
              "      <th>3</th>\n",
              "      <td>2010-01-07</td>\n",
              "      <td>15.250250</td>\n",
              "      <td>15.265265</td>\n",
              "      <td>14.831081</td>\n",
              "      <td>14.867367</td>\n",
              "      <td>14.867367</td>\n",
              "      <td>256315428</td>\n",
              "    </tr>\n",
              "    <tr>\n",
              "      <th>4</th>\n",
              "      <td>2010-01-08</td>\n",
              "      <td>14.814815</td>\n",
              "      <td>15.096346</td>\n",
              "      <td>14.742492</td>\n",
              "      <td>15.065566</td>\n",
              "      <td>15.065566</td>\n",
              "      <td>188783028</td>\n",
              "    </tr>\n",
              "  </tbody>\n",
              "</table>\n",
              "</div>\n",
              "    <div class=\"colab-df-buttons\">\n",
              "\n",
              "  <div class=\"colab-df-container\">\n",
              "    <button class=\"colab-df-convert\" onclick=\"convertToInteractive('df-96494b00-33df-410b-87e8-19687c012eb5')\"\n",
              "            title=\"Convert this dataframe to an interactive table.\"\n",
              "            style=\"display:none;\">\n",
              "\n",
              "  <svg xmlns=\"http://www.w3.org/2000/svg\" height=\"24px\" viewBox=\"0 -960 960 960\">\n",
              "    <path d=\"M120-120v-720h720v720H120Zm60-500h600v-160H180v160Zm220 220h160v-160H400v160Zm0 220h160v-160H400v160ZM180-400h160v-160H180v160Zm440 0h160v-160H620v160ZM180-180h160v-160H180v160Zm440 0h160v-160H620v160Z\"/>\n",
              "  </svg>\n",
              "    </button>\n",
              "\n",
              "  <style>\n",
              "    .colab-df-container {\n",
              "      display:flex;\n",
              "      gap: 12px;\n",
              "    }\n",
              "\n",
              "    .colab-df-convert {\n",
              "      background-color: #E8F0FE;\n",
              "      border: none;\n",
              "      border-radius: 50%;\n",
              "      cursor: pointer;\n",
              "      display: none;\n",
              "      fill: #1967D2;\n",
              "      height: 32px;\n",
              "      padding: 0 0 0 0;\n",
              "      width: 32px;\n",
              "    }\n",
              "\n",
              "    .colab-df-convert:hover {\n",
              "      background-color: #E2EBFA;\n",
              "      box-shadow: 0px 1px 2px rgba(60, 64, 67, 0.3), 0px 1px 3px 1px rgba(60, 64, 67, 0.15);\n",
              "      fill: #174EA6;\n",
              "    }\n",
              "\n",
              "    .colab-df-buttons div {\n",
              "      margin-bottom: 4px;\n",
              "    }\n",
              "\n",
              "    [theme=dark] .colab-df-convert {\n",
              "      background-color: #3B4455;\n",
              "      fill: #D2E3FC;\n",
              "    }\n",
              "\n",
              "    [theme=dark] .colab-df-convert:hover {\n",
              "      background-color: #434B5C;\n",
              "      box-shadow: 0px 1px 3px 1px rgba(0, 0, 0, 0.15);\n",
              "      filter: drop-shadow(0px 1px 2px rgba(0, 0, 0, 0.3));\n",
              "      fill: #FFFFFF;\n",
              "    }\n",
              "  </style>\n",
              "\n",
              "    <script>\n",
              "      const buttonEl =\n",
              "        document.querySelector('#df-96494b00-33df-410b-87e8-19687c012eb5 button.colab-df-convert');\n",
              "      buttonEl.style.display =\n",
              "        google.colab.kernel.accessAllowed ? 'block' : 'none';\n",
              "\n",
              "      async function convertToInteractive(key) {\n",
              "        const element = document.querySelector('#df-96494b00-33df-410b-87e8-19687c012eb5');\n",
              "        const dataTable =\n",
              "          await google.colab.kernel.invokeFunction('convertToInteractive',\n",
              "                                                    [key], {});\n",
              "        if (!dataTable) return;\n",
              "\n",
              "        const docLinkHtml = 'Like what you see? Visit the ' +\n",
              "          '<a target=\"_blank\" href=https://colab.research.google.com/notebooks/data_table.ipynb>data table notebook</a>'\n",
              "          + ' to learn more about interactive tables.';\n",
              "        element.innerHTML = '';\n",
              "        dataTable['output_type'] = 'display_data';\n",
              "        await google.colab.output.renderOutput(dataTable, element);\n",
              "        const docLink = document.createElement('div');\n",
              "        docLink.innerHTML = docLinkHtml;\n",
              "        element.appendChild(docLink);\n",
              "      }\n",
              "    </script>\n",
              "  </div>\n",
              "\n",
              "\n",
              "<div id=\"df-c2d57556-7d37-4b7c-9b5e-70bbd829ede3\">\n",
              "  <button class=\"colab-df-quickchart\" onclick=\"quickchart('df-c2d57556-7d37-4b7c-9b5e-70bbd829ede3')\"\n",
              "            title=\"Suggest charts\"\n",
              "            style=\"display:none;\">\n",
              "\n",
              "<svg xmlns=\"http://www.w3.org/2000/svg\" height=\"24px\"viewBox=\"0 0 24 24\"\n",
              "     width=\"24px\">\n",
              "    <g>\n",
              "        <path d=\"M19 3H5c-1.1 0-2 .9-2 2v14c0 1.1.9 2 2 2h14c1.1 0 2-.9 2-2V5c0-1.1-.9-2-2-2zM9 17H7v-7h2v7zm4 0h-2V7h2v10zm4 0h-2v-4h2v4z\"/>\n",
              "    </g>\n",
              "</svg>\n",
              "  </button>\n",
              "\n",
              "<style>\n",
              "  .colab-df-quickchart {\n",
              "      --bg-color: #E8F0FE;\n",
              "      --fill-color: #1967D2;\n",
              "      --hover-bg-color: #E2EBFA;\n",
              "      --hover-fill-color: #174EA6;\n",
              "      --disabled-fill-color: #AAA;\n",
              "      --disabled-bg-color: #DDD;\n",
              "  }\n",
              "\n",
              "  [theme=dark] .colab-df-quickchart {\n",
              "      --bg-color: #3B4455;\n",
              "      --fill-color: #D2E3FC;\n",
              "      --hover-bg-color: #434B5C;\n",
              "      --hover-fill-color: #FFFFFF;\n",
              "      --disabled-bg-color: #3B4455;\n",
              "      --disabled-fill-color: #666;\n",
              "  }\n",
              "\n",
              "  .colab-df-quickchart {\n",
              "    background-color: var(--bg-color);\n",
              "    border: none;\n",
              "    border-radius: 50%;\n",
              "    cursor: pointer;\n",
              "    display: none;\n",
              "    fill: var(--fill-color);\n",
              "    height: 32px;\n",
              "    padding: 0;\n",
              "    width: 32px;\n",
              "  }\n",
              "\n",
              "  .colab-df-quickchart:hover {\n",
              "    background-color: var(--hover-bg-color);\n",
              "    box-shadow: 0 1px 2px rgba(60, 64, 67, 0.3), 0 1px 3px 1px rgba(60, 64, 67, 0.15);\n",
              "    fill: var(--button-hover-fill-color);\n",
              "  }\n",
              "\n",
              "  .colab-df-quickchart-complete:disabled,\n",
              "  .colab-df-quickchart-complete:disabled:hover {\n",
              "    background-color: var(--disabled-bg-color);\n",
              "    fill: var(--disabled-fill-color);\n",
              "    box-shadow: none;\n",
              "  }\n",
              "\n",
              "  .colab-df-spinner {\n",
              "    border: 2px solid var(--fill-color);\n",
              "    border-color: transparent;\n",
              "    border-bottom-color: var(--fill-color);\n",
              "    animation:\n",
              "      spin 1s steps(1) infinite;\n",
              "  }\n",
              "\n",
              "  @keyframes spin {\n",
              "    0% {\n",
              "      border-color: transparent;\n",
              "      border-bottom-color: var(--fill-color);\n",
              "      border-left-color: var(--fill-color);\n",
              "    }\n",
              "    20% {\n",
              "      border-color: transparent;\n",
              "      border-left-color: var(--fill-color);\n",
              "      border-top-color: var(--fill-color);\n",
              "    }\n",
              "    30% {\n",
              "      border-color: transparent;\n",
              "      border-left-color: var(--fill-color);\n",
              "      border-top-color: var(--fill-color);\n",
              "      border-right-color: var(--fill-color);\n",
              "    }\n",
              "    40% {\n",
              "      border-color: transparent;\n",
              "      border-right-color: var(--fill-color);\n",
              "      border-top-color: var(--fill-color);\n",
              "    }\n",
              "    60% {\n",
              "      border-color: transparent;\n",
              "      border-right-color: var(--fill-color);\n",
              "    }\n",
              "    80% {\n",
              "      border-color: transparent;\n",
              "      border-right-color: var(--fill-color);\n",
              "      border-bottom-color: var(--fill-color);\n",
              "    }\n",
              "    90% {\n",
              "      border-color: transparent;\n",
              "      border-bottom-color: var(--fill-color);\n",
              "    }\n",
              "  }\n",
              "</style>\n",
              "\n",
              "  <script>\n",
              "    async function quickchart(key) {\n",
              "      const quickchartButtonEl =\n",
              "        document.querySelector('#' + key + ' button');\n",
              "      quickchartButtonEl.disabled = true;  // To prevent multiple clicks.\n",
              "      quickchartButtonEl.classList.add('colab-df-spinner');\n",
              "      try {\n",
              "        const charts = await google.colab.kernel.invokeFunction(\n",
              "            'suggestCharts', [key], {});\n",
              "      } catch (error) {\n",
              "        console.error('Error during call to suggestCharts:', error);\n",
              "      }\n",
              "      quickchartButtonEl.classList.remove('colab-df-spinner');\n",
              "      quickchartButtonEl.classList.add('colab-df-quickchart-complete');\n",
              "    }\n",
              "    (() => {\n",
              "      let quickchartButtonEl =\n",
              "        document.querySelector('#df-c2d57556-7d37-4b7c-9b5e-70bbd829ede3 button');\n",
              "      quickchartButtonEl.style.display =\n",
              "        google.colab.kernel.accessAllowed ? 'block' : 'none';\n",
              "    })();\n",
              "  </script>\n",
              "</div>\n",
              "\n",
              "    </div>\n",
              "  </div>\n"
            ],
            "application/vnd.google.colaboratory.intrinsic+json": {
              "type": "dataframe",
              "variable_name": "df",
              "summary": "{\n  \"name\": \"df\",\n  \"rows\": 3563,\n  \"fields\": [\n    {\n      \"column\": \"Date\",\n      \"properties\": {\n        \"dtype\": \"object\",\n        \"num_unique_values\": 3563,\n        \"samples\": [\n          \"2019-01-14\",\n          \"2010-09-27\",\n          \"2020-10-29\"\n        ],\n        \"semantic_type\": \"\",\n        \"description\": \"\"\n      }\n    },\n    {\n      \"column\": \"Open\",\n      \"properties\": {\n        \"dtype\": \"number\",\n        \"std\": 40.00755593135253,\n        \"min\": 10.96871852874756,\n        \"max\": 152.8000030517578,\n        \"num_unique_values\": 3475,\n        \"samples\": [\n          115.67749786376952,\n          36.32849884033203,\n          14.733734130859377\n        ],\n        \"semantic_type\": \"\",\n        \"description\": \"\"\n      }\n    },\n    {\n      \"column\": \"High\",\n      \"properties\": {\n        \"dtype\": \"number\",\n        \"std\": 40.47319326939099,\n        \"min\": 11.06806755065918,\n        \"max\": 153.77999877929688,\n        \"num_unique_values\": 3457,\n        \"samples\": [\n          44.64950180053711,\n          14.225225448608398,\n          13.700950622558594\n        ],\n        \"semantic_type\": \"\",\n        \"description\": \"\"\n      }\n    },\n    {\n      \"column\": \"Low\",\n      \"properties\": {\n        \"dtype\": \"number\",\n        \"std\": 39.569486966052324,\n        \"min\": 10.851601600646973,\n        \"max\": 151.42999267578125,\n        \"num_unique_values\": 3489,\n        \"samples\": [\n          14.214715003967283,\n          136.27149963378906,\n          135.7899932861328\n        ],\n        \"semantic_type\": \"\",\n        \"description\": \"\"\n      }\n    },\n    {\n      \"column\": \"Close\",\n      \"properties\": {\n        \"dtype\": \"number\",\n        \"std\": 40.03110874082035,\n        \"min\": 10.912663459777832,\n        \"max\": 153.50999450683594,\n        \"num_unique_values\": 3516,\n        \"samples\": [\n          65.99199676513672,\n          14.8973970413208,\n          12.630881309509276\n        ],\n        \"semantic_type\": \"\",\n        \"description\": \"\"\n      }\n    },\n    {\n      \"column\": \"Adj Close\",\n      \"properties\": {\n        \"dtype\": \"number\",\n        \"std\": 40.03110874082035,\n        \"min\": 10.912663459777832,\n        \"max\": 153.50999450683594,\n        \"num_unique_values\": 3516,\n        \"samples\": [\n          65.99199676513672,\n          14.8973970413208,\n          12.630881309509276\n        ],\n        \"semantic_type\": \"\",\n        \"description\": \"\"\n      }\n    },\n    {\n      \"column\": \"Volume\",\n      \"properties\": {\n        \"dtype\": \"number\",\n        \"std\": 48258281,\n        \"min\": 9312000,\n        \"max\": 592399008,\n        \"num_unique_values\": 3453,\n        \"samples\": [\n          76295628,\n          71016912,\n          26748000\n        ],\n        \"semantic_type\": \"\",\n        \"description\": \"\"\n      }\n    }\n  ]\n}"
            }
          },
          "metadata": {},
          "execution_count": 5
        }
      ]
    },
    {
      "cell_type": "code",
      "source": [
        "df.info()"
      ],
      "metadata": {
        "colab": {
          "base_uri": "https://localhost:8080/"
        },
        "id": "yKjShqzl-fQL",
        "outputId": "088f707a-79a7-42a1-f572-59b7946143d0"
      },
      "execution_count": null,
      "outputs": [
        {
          "output_type": "stream",
          "name": "stdout",
          "text": [
            "<class 'pandas.core.frame.DataFrame'>\n",
            "RangeIndex: 3563 entries, 0 to 3562\n",
            "Data columns (total 7 columns):\n",
            " #   Column     Non-Null Count  Dtype  \n",
            "---  ------     --------------  -----  \n",
            " 0   Date       3563 non-null   object \n",
            " 1   Open       3563 non-null   float64\n",
            " 2   High       3563 non-null   float64\n",
            " 3   Low        3563 non-null   float64\n",
            " 4   Close      3563 non-null   float64\n",
            " 5   Adj Close  3563 non-null   float64\n",
            " 6   Volume     3563 non-null   int64  \n",
            "dtypes: float64(5), int64(1), object(1)\n",
            "memory usage: 195.0+ KB\n"
          ]
        }
      ]
    },
    {
      "cell_type": "code",
      "source": [
        "# Use only the 'Close' column for prediction\n",
        "df = df['Close'].values"
      ],
      "metadata": {
        "id": "cwqVmwxf-9wh"
      },
      "execution_count": null,
      "outputs": []
    },
    {
      "cell_type": "code",
      "source": [
        "scaler = MinMaxScaler()\n",
        "df = scaler.fit_transform(df.reshape(-1, 1))"
      ],
      "metadata": {
        "id": "q4H4p-7P_Lvd"
      },
      "execution_count": null,
      "outputs": []
    },
    {
      "cell_type": "code",
      "source": [
        "# Create sequences of 60 consecutive stock prices as features and the 61st price as the label\n",
        "X = []\n",
        "y = []\n",
        "for i in range(60, len(df)):\n",
        "    X.append(df[i-60:i, 0])\n",
        "    y.append(df[i, 0])\n",
        "X, y = np.array(X), np.array(y)"
      ],
      "metadata": {
        "id": "c8nu2IGc-FqF"
      },
      "execution_count": null,
      "outputs": []
    },
    {
      "cell_type": "code",
      "source": [
        "# Reshape X to be of shape (samples, time steps, features) which is required for LSTM\n",
        "X = np.reshape(X, (X.shape[0], X.shape[1], 1))"
      ],
      "metadata": {
        "id": "Ab-aZJqZ-cUt"
      },
      "execution_count": null,
      "outputs": []
    },
    {
      "cell_type": "code",
      "source": [
        "from tensorflow.keras.models import Sequential\n",
        "from tensorflow.keras.layers import Dense, LSTM, Dropout, SimpleRNN"
      ],
      "metadata": {
        "id": "8mR-o_UqBLbP"
      },
      "execution_count": null,
      "outputs": []
    },
    {
      "cell_type": "code",
      "source": [
        "model = Sequential()\n",
        "\n",
        "model.add(SimpleRNN(units=50,activation = \"tanh\", return_sequences = True, input_shape = (X.shape[1], 1)))\n",
        "model.add(Dropout(0.2))\n",
        "\n",
        "model.add(SimpleRNN(units=50,activation = \"tanh\", return_sequences = True))\n",
        "model.add(Dropout(0.2))\n",
        "\n",
        "model.add(SimpleRNN(units=50,activation = \"tanh\", return_sequences = True))\n",
        "model.add(Dropout(0.2))\n",
        "\n",
        "model.add(SimpleRNN(units=50))\n",
        "model.add(Dropout(0.2))\n",
        "\n",
        "model.add(Dense(units=1))\n",
        "\n",
        "model.compile(optimizer='adam',loss='mse')\n",
        "model.summary()"
      ],
      "metadata": {
        "colab": {
          "base_uri": "https://localhost:8080/"
        },
        "id": "SnAlG4zFCNbl",
        "outputId": "8336952d-a89d-43bf-94c6-efea5640d73b"
      },
      "execution_count": null,
      "outputs": [
        {
          "output_type": "stream",
          "name": "stdout",
          "text": [
            "Model: \"sequential_4\"\n",
            "_________________________________________________________________\n",
            " Layer (type)                Output Shape              Param #   \n",
            "=================================================================\n",
            " simple_rnn (SimpleRNN)      (None, 60, 50)            2600      \n",
            "                                                                 \n",
            " dropout_2 (Dropout)         (None, 60, 50)            0         \n",
            "                                                                 \n",
            " simple_rnn_1 (SimpleRNN)    (None, 60, 50)            5050      \n",
            "                                                                 \n",
            " dropout_3 (Dropout)         (None, 60, 50)            0         \n",
            "                                                                 \n",
            " simple_rnn_2 (SimpleRNN)    (None, 60, 50)            5050      \n",
            "                                                                 \n",
            " dropout_4 (Dropout)         (None, 60, 50)            0         \n",
            "                                                                 \n",
            " simple_rnn_3 (SimpleRNN)    (None, 50)                5050      \n",
            "                                                                 \n",
            " dropout_5 (Dropout)         (None, 50)                0         \n",
            "                                                                 \n",
            " dense_1 (Dense)             (None, 1)                 51        \n",
            "                                                                 \n",
            "=================================================================\n",
            "Total params: 17801 (69.54 KB)\n",
            "Trainable params: 17801 (69.54 KB)\n",
            "Non-trainable params: 0 (0.00 Byte)\n",
            "_________________________________________________________________\n"
          ]
        }
      ]
    },
    {
      "cell_type": "code",
      "execution_count": null,
      "metadata": {
        "colab": {
          "base_uri": "https://localhost:8080/"
        },
        "id": "yyu5gl8d9Met",
        "outputId": "f423fc09-16e8-46be-f445-42a66f61acd5"
      },
      "outputs": [
        {
          "output_type": "stream",
          "name": "stdout",
          "text": [
            "Epoch 1/10\n",
            "111/111 [==============================] - 11s 62ms/step - loss: 0.0229 - val_loss: 0.0182\n",
            "Epoch 2/10\n",
            "111/111 [==============================] - 8s 72ms/step - loss: 0.0100 - val_loss: 0.0056\n",
            "Epoch 3/10\n",
            "111/111 [==============================] - 6s 58ms/step - loss: 0.0063 - val_loss: 0.0125\n",
            "Epoch 4/10\n",
            "111/111 [==============================] - 11s 103ms/step - loss: 0.0047 - val_loss: 7.8611e-04\n",
            "Epoch 5/10\n",
            "111/111 [==============================] - 11s 99ms/step - loss: 0.0036 - val_loss: 0.0028\n",
            "Epoch 6/10\n",
            "111/111 [==============================] - 9s 81ms/step - loss: 0.0028 - val_loss: 0.0021\n",
            "Epoch 7/10\n",
            "111/111 [==============================] - 7s 59ms/step - loss: 0.0024 - val_loss: 0.0018\n",
            "Epoch 8/10\n",
            "111/111 [==============================] - 8s 72ms/step - loss: 0.0022 - val_loss: 0.0010\n",
            "Epoch 9/10\n",
            "111/111 [==============================] - 7s 59ms/step - loss: 0.0019 - val_loss: 7.6250e-04\n",
            "Epoch 10/10\n",
            "111/111 [==============================] - 8s 72ms/step - loss: 0.0024 - val_loss: 0.0027\n"
          ]
        },
        {
          "output_type": "execute_result",
          "data": {
            "text/plain": [
              "<keras.src.callbacks.History at 0x788668a74580>"
            ]
          },
          "metadata": {},
          "execution_count": 22
        }
      ],
      "source": [
        "# Train the model\n",
        "model.fit(X,y,epochs=10,batch_size=30,validation_split=0.05)"
      ]
    },
    {
      "cell_type": "code",
      "execution_count": null,
      "metadata": {
        "colab": {
          "base_uri": "https://localhost:8080/",
          "height": 489
        },
        "id": "2erwCjge9Meu",
        "outputId": "4620cc2e-c41d-44e6-aecc-4f0a9b556130"
      },
      "outputs": [
        {
          "output_type": "stream",
          "name": "stdout",
          "text": [
            "110/110 [==============================] - 3s 22ms/step\n"
          ]
        },
        {
          "output_type": "display_data",
          "data": {
            "text/plain": [
              "<Figure size 640x480 with 1 Axes>"
            ],
            "image/png": "[encoded data removed]"
          },
          "metadata": {}
        }
      ],
      "source": [
        "import matplotlib.pyplot as plt\n",
        "\n",
        "# Generate predictions\n",
        "predicted_prices = model.predict(X)\n",
        "predicted_prices = scaler.inverse_transform(predicted_prices)  # Undo scaling\n",
        "\n",
        "# Get the actual prices (also undo scaling)\n",
        "actual_prices = scaler.inverse_transform(y.reshape(-1, 1))\n",
        "\n",
        "# Plot the actual vs predicted prices\n",
        "plt.plot(actual_prices, color='red', label='Actual Google Stock Price')\n",
        "plt.plot(predicted_prices, color='yellow', label='Predicted Google Stock Price')\n",
        "plt.title('Google Stock Price Prediction')\n",
        "plt.xlabel('Time')\n",
        "plt.ylabel('Google Stock Price')\n",
        "plt.legend()\n",
        "plt.show()"
      ]
    },
    {
      "cell_type": "code",
      "execution_count": null,
      "metadata": {
        "colab": {
          "base_uri": "https://localhost:8080/"
        },
        "id": "7X1Sk9yz9Mev",
        "outputId": "5a06a23f-6c3c-495b-a26e-aa0f30b4f0c9"
      },
      "outputs": [
        {
          "output_type": "stream",
          "name": "stdout",
          "text": [
            "R-squared: 99.29%\n"
          ]
        }
      ],
      "source": [
        "from sklearn.metrics import r2_score\n",
        "\n",
        "r2 = r2_score(actual_prices, predicted_prices)\n",
        "\n",
        "# print the R-squared value as a percentage\n",
        "print(\"R-squared: {:.2f}%\".format(r2 * 100))"
      ]
    },
    {
      "cell_type": "code",
      "source": [
        "r2"
      ],
      "metadata": {
        "colab": {
          "base_uri": "https://localhost:8080/"
        },
        "id": "VqrpcQ9OEpHK",
        "outputId": "ebc67fee-4602-449d-ecff-e4f8815575b9"
      },
      "execution_count": null,
      "outputs": [
        {
          "output_type": "execute_result",
          "data": {
            "text/plain": [
              "0.9929389069552066"
            ]
          },
          "metadata": {},
          "execution_count": 25
        }
      ]
    },
    {
      "cell_type": "code",
      "source": [],
      "metadata": {
        "id": "VhplMgLIJ9MS"
      },
      "execution_count": null,
      "outputs": []
    }
  ],
  "metadata": {
    "kernelspec": {
      "display_name": "Python 3",
      "language": "python",
      "name": "python3"
    },
    "language_info": {
      "codemirror_mode": {
        "name": "ipython",
        "version": 3
      },
      "file_extension": ".py",
      "mimetype": "text/x-python",
      "name": "python",
      "nbconvert_exporter": "python",
      "pygments_lexer": "ipython3",
      "version": "3.10.4"
    },
    "orig_nbformat": 4,
    "colab": {
      "provenance": []
    }
  },
  "nbformat": 4,
  "nbformat_minor": 0
}