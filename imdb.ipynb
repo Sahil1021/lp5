{
  "nbformat": 4,
  "nbformat_minor": 0,
  "metadata": {
    "colab": {
      "provenance": []
    },
    "kernelspec": {
      "name": "python3",
      "display_name": "Python 3"
    },
    "language_info": {
      "name": "python"
    }
  },
  "cells": [
    {
      "cell_type": "code",
      "execution_count": 1,
      "metadata": {
        "id": "pfEl7LJFxeRN"
      },
      "outputs": [],
      "source": [
        "from tensorflow.keras.datasets import imdb\n",
        "from tensorflow.keras.models import Sequential\n",
        "from tensorflow.keras.layers import Dense, Embedding, Flatten\n",
        "from tensorflow.keras.preprocessing import sequence"
      ]
    },
    {
      "cell_type": "code",
      "source": [
        "(X_train, y_train), (X_test, y_test) = imdb.load_data(num_words=5000)"
      ],
      "metadata": {
        "colab": {
          "base_uri": "https://localhost:8080/"
        },
        "id": "k1pLkwWHxfbr",
        "outputId": "d7382558-eac8-4d1c-955f-0fde6b186e39"
      },
      "execution_count": 2,
      "outputs": [
        {
          "output_type": "stream",
          "name": "stdout",
          "text": [
            "Downloading data from https://storage.googleapis.com/tensorflow/tf-keras-datasets/imdb.npz\n",
            "17464789/17464789 [==============================] - 0s 0us/step\n"
          ]
        }
      ]
    },
    {
      "cell_type": "code",
      "source": [
        "# Pad the sequences to the same length\n",
        "X_train = sequence.pad_sequences(X_train, maxlen=250)  # Reduced sequence length\n",
        "X_test = sequence.pad_sequences(X_test, maxlen=250)  # Reduced sequence length"
      ],
      "metadata": {
        "id": "x_Dae-x2xkzc"
      },
      "execution_count": 3,
      "outputs": []
    },
    {
      "cell_type": "code",
      "source": [
        "model = Sequential([\n",
        "    Embedding(5000, 32, input_length=250),\n",
        "    Flatten(),\n",
        "    Dense(128, activation='relu'),\n",
        "    Dense(1, activation='sigmoid')\n",
        "])"
      ],
      "metadata": {
        "id": "Xhi-tls3yE5j"
      },
      "execution_count": 6,
      "outputs": []
    },
    {
      "cell_type": "code",
      "source": [
        "# Compile the model\n",
        "model.compile(loss='binary_crossentropy', optimizer='adam', metrics=['accuracy'])\n",
        "\n",
        "model.summary()"
      ],
      "metadata": {
        "colab": {
          "base_uri": "https://localhost:8080/"
        },
        "id": "S0opfh49ytYs",
        "outputId": "1f20a49b-39bd-4f7e-e4bb-ee89563ea732"
      },
      "execution_count": 9,
      "outputs": [
        {
          "output_type": "stream",
          "name": "stdout",
          "text": [
            "Model: \"sequential\"\n",
            "_________________________________________________________________\n",
            " Layer (type)                Output Shape              Param #   \n",
            "=================================================================\n",
            " embedding (Embedding)       (None, 250, 32)           160000    \n",
            "                                                                 \n",
            " flatten (Flatten)           (None, 8000)              0         \n",
            "                                                                 \n",
            " dense (Dense)               (None, 128)               1024128   \n",
            "                                                                 \n",
            " dense_1 (Dense)             (None, 1)                 129       \n",
            "                                                                 \n",
            "=================================================================\n",
            "Total params: 1184257 (4.52 MB)\n",
            "Trainable params: 1184257 (4.52 MB)\n",
            "Non-trainable params: 0 (0.00 Byte)\n",
            "_________________________________________________________________\n"
          ]
        }
      ]
    },
    {
      "cell_type": "code",
      "source": [
        "# Train the model\n",
        "model.fit(X_train, y_train, epochs=10, batch_size=64, verbose=1)"
      ],
      "metadata": {
        "colab": {
          "base_uri": "https://localhost:8080/"
        },
        "id": "Rle4X7bczKi9",
        "outputId": "982c5527-ac3c-442c-e388-91a177035817"
      },
      "execution_count": 10,
      "outputs": [
        {
          "output_type": "stream",
          "name": "stdout",
          "text": [
            "Epoch 1/10\n",
            "391/391 [==============================] - 10s 23ms/step - loss: 0.2563 - accuracy: 0.8952\n",
            "Epoch 2/10\n",
            "391/391 [==============================] - 9s 22ms/step - loss: 0.0813 - accuracy: 0.9732\n",
            "Epoch 3/10\n",
            "391/391 [==============================] - 9s 24ms/step - loss: 0.0154 - accuracy: 0.9971\n",
            "Epoch 4/10\n",
            "391/391 [==============================] - 9s 23ms/step - loss: 0.0023 - accuracy: 0.9999\n",
            "Epoch 5/10\n",
            "391/391 [==============================] - 8s 21ms/step - loss: 6.5625e-04 - accuracy: 1.0000\n",
            "Epoch 6/10\n",
            "391/391 [==============================] - 9s 23ms/step - loss: 2.9149e-04 - accuracy: 1.0000\n",
            "Epoch 7/10\n",
            "391/391 [==============================] - 9s 23ms/step - loss: 1.8878e-04 - accuracy: 1.0000\n",
            "Epoch 8/10\n",
            "391/391 [==============================] - 8s 20ms/step - loss: 1.3122e-04 - accuracy: 1.0000\n",
            "Epoch 9/10\n",
            "391/391 [==============================] - 9s 24ms/step - loss: 9.4174e-05 - accuracy: 1.0000\n",
            "Epoch 10/10\n",
            "391/391 [==============================] - 9s 23ms/step - loss: 7.0230e-05 - accuracy: 1.0000\n"
          ]
        },
        {
          "output_type": "execute_result",
          "data": {
            "text/plain": [
              "<keras.src.callbacks.History at 0x7b93ee26c820>"
            ]
          },
          "metadata": {},
          "execution_count": 10
        }
      ]
    },
    {
      "cell_type": "code",
      "source": [
        "loss, accuracy = model.evaluate(X_test, y_test)\n",
        "print(\"Accuracy: %.2f%%\" % (accuracy*100))"
      ],
      "metadata": {
        "colab": {
          "base_uri": "https://localhost:8080/"
        },
        "id": "BYqhgp59zSTd",
        "outputId": "07546563-fe61-4fa9-e5bc-f87a4e3fbe79"
      },
      "execution_count": 11,
      "outputs": [
        {
          "output_type": "stream",
          "name": "stdout",
          "text": [
            "782/782 [==============================] - 4s 5ms/step - loss: 0.7430 - accuracy: 0.8599\n",
            "Accuracy: 85.99%\n"
          ]
        }
      ]
    },
    {
      "cell_type": "code",
      "source": [
        "import numpy as np\n",
        "import matplotlib.pyplot as plt\n",
        "\n",
        "# Generate predictions\n",
        "y_pred = model.predict(X_test)\n",
        "y_pred = (y_pred > 0.92).astype(int)  # Convert probabilities to class labels\n",
        "\n",
        "# Count positive and negative predictions\n",
        "positive_predictions = np.sum(y_pred)\n",
        "negative_predictions = len(y_pred) - positive_predictions\n",
        "\n",
        "# Plot the pie chart\n",
        "labels = 'Positive Predictions', 'Negative Predictions'\n",
        "sizes = [positive_predictions, negative_predictions]\n",
        "fig1, ax1 = plt.subplots()\n",
        "ax1.pie(sizes, labels=labels, autopct='%1.1f%%', startangle=90)\n",
        "ax1.axis('equal')  # Equal aspect ratio ensures that pie is drawn as a circle.\n",
        "plt.show()"
      ],
      "metadata": {
        "colab": {
          "base_uri": "https://localhost:8080/",
          "height": 423
        },
        "id": "vYZ6HeMQzxdu",
        "outputId": "c9778227-337c-4dcd-d1f3-9fcde20ee071"
      },
      "execution_count": 13,
      "outputs": [
        {
          "output_type": "stream",
          "name": "stdout",
          "text": [
            "782/782 [==============================] - 3s 4ms/step\n"
          ]
        },
        {
          "output_type": "display_data",
          "data": {
            "text/plain": [
              "<Figure size 640x480 with 1 Axes>"
            ],
            "image/png": "[encoded data removed]"
          },
          "metadata": {}
        }
      ]
    },
    {
      "cell_type": "code",
      "source": [],
      "metadata": {
        "id": "jnyv2VCo0AKU"
      },
      "execution_count": null,
      "outputs": []
    }
  ]
}